{
 "cells": [
  {
   "cell_type": "markdown",
   "metadata": {},
   "source": [
    "### Spam, Ham 분류하기"
   ]
  },
  {
   "cell_type": "markdown",
   "metadata": {},
   "source": [
    "#### 데이터 셋"
   ]
  },
  {
   "cell_type": "markdown",
   "metadata": {},
   "source": [
    "- CSDM2010 SPAM corups 이용\n",
    "    - 4,327 email, 라벨 포함(ham: 1,378, spam: 2,949)"
   ]
  },
  {
   "cell_type": "markdown",
   "metadata": {},
   "source": [
    "#### 라이브러리 로딩 "
   ]
  },
  {
   "cell_type": "code",
   "execution_count": 121,
   "metadata": {},
   "outputs": [],
   "source": [
    "import numpy as np\n",
    "import pandas as pd\n",
    "import matplotlib.pyplot as plt\n",
    "import seaborn as sns\n",
    "import glob, os\n",
    "from tensorflow.keras.preprocessing.text import text_to_word_sequence\n",
    "from tensorflow.keras.preprocessing.text import Tokenizer\n",
    "from tensorflow.keras.preprocessing.sequence import pad_sequences\n",
    "import tensorflow as tf\n",
    "from tensorflow import keras"
   ]
  },
  {
   "cell_type": "code",
   "execution_count": 122,
   "metadata": {},
   "outputs": [],
   "source": [
    "#sns.set(font_scale=1.2)\n",
    "sns.set_style(\"whitegrid\")\n",
    "sns.set_palette(\"Paired\")"
   ]
  },
  {
   "cell_type": "code",
   "execution_count": 123,
   "metadata": {},
   "outputs": [],
   "source": [
    "import warnings\n",
    "warnings.filterwarnings(action='ignore') "
   ]
  },
  {
   "cell_type": "markdown",
   "metadata": {},
   "source": [
    "#### 데이터 불러오기&탐색"
   ]
  },
  {
   "cell_type": "markdown",
   "metadata": {},
   "source": [
    "**이메일 읽어오기**"
   ]
  },
  {
   "cell_type": "code",
   "execution_count": 124,
   "metadata": {},
   "outputs": [
    {
     "name": "stdout",
     "output_type": "stream",
     "text": [
      "파일개수: 4327\n"
     ]
    }
   ],
   "source": [
    "path = './data/email/*'\n",
    "file_list = glob.glob(path)\n",
    "file_list_txt = [file for file in file_list if file.endswith('.txt')]\n",
    "print('파일개수:', len(file_list_txt))"
   ]
  },
  {
   "cell_type": "code",
   "execution_count": 125,
   "metadata": {},
   "outputs": [],
   "source": [
    "emails = []\n",
    "for file in file_list_txt:\n",
    "#     print(file)\n",
    "    with open(file, 'r') as f:\n",
    "        lines = f.readlines()\n",
    "        data = ' '.join(lines)\n",
    "    emails.append(data)"
   ]
  },
  {
   "cell_type": "code",
   "execution_count": 126,
   "metadata": {},
   "outputs": [],
   "source": [
    "def get_filename(path):\n",
    "    name = os.path.basename(path)\n",
    "    return name"
   ]
  },
  {
   "cell_type": "code",
   "execution_count": 127,
   "metadata": {},
   "outputs": [
    {
     "data": {
      "text/html": [
       "<div>\n",
       "<style scoped>\n",
       "    .dataframe tbody tr th:only-of-type {\n",
       "        vertical-align: middle;\n",
       "    }\n",
       "\n",
       "    .dataframe tbody tr th {\n",
       "        vertical-align: top;\n",
       "    }\n",
       "\n",
       "    .dataframe thead th {\n",
       "        text-align: right;\n",
       "    }\n",
       "</style>\n",
       "<table border=\"1\" class=\"dataframe\">\n",
       "  <thead>\n",
       "    <tr style=\"text-align: right;\">\n",
       "      <th></th>\n",
       "      <th>file_path</th>\n",
       "      <th>file_name</th>\n",
       "      <th>email</th>\n",
       "    </tr>\n",
       "  </thead>\n",
       "  <tbody>\n",
       "    <tr>\n",
       "      <th>0</th>\n",
       "      <td>./data/email/TRAIN_02429.eml.txt</td>\n",
       "      <td>TRAIN_02429.eml.txt</td>\n",
       "      <td>[SPAM]  Dear hibody@csmining.org 79% 0FF on Pf...</td>\n",
       "    </tr>\n",
       "    <tr>\n",
       "      <th>1</th>\n",
       "      <td>./data/email/TRAIN_00509.eml.txt</td>\n",
       "      <td>TRAIN_00509.eml.txt</td>\n",
       "      <td>Re: Why are there no latest books written for ...</td>\n",
       "    </tr>\n",
       "    <tr>\n",
       "      <th>2</th>\n",
       "      <td>./data/email/TRAIN_04315.eml.txt</td>\n",
       "      <td>TRAIN_04315.eml.txt</td>\n",
       "      <td>We Dare You to Find a Better AnnuityFrom nobod...</td>\n",
       "    </tr>\n",
       "    <tr>\n",
       "      <th>3</th>\n",
       "      <td>./data/email/TRAIN_02983.eml.txt</td>\n",
       "      <td>TRAIN_02983.eml.txt</td>\n",
       "      <td>Re: FromFrom nobody Sun Sep 18 20:45:31 2016\\n...</td>\n",
       "    </tr>\n",
       "    <tr>\n",
       "      <th>4</th>\n",
       "      <td>./data/email/TRAIN_03445.eml.txt</td>\n",
       "      <td>TRAIN_03445.eml.txt</td>\n",
       "      <td>[zzzzteana] Re: Archer-UK TV Alert&gt; US listers...</td>\n",
       "    </tr>\n",
       "  </tbody>\n",
       "</table>\n",
       "</div>"
      ],
      "text/plain": [
       "                          file_path            file_name  \\\n",
       "0  ./data/email/TRAIN_02429.eml.txt  TRAIN_02429.eml.txt   \n",
       "1  ./data/email/TRAIN_00509.eml.txt  TRAIN_00509.eml.txt   \n",
       "2  ./data/email/TRAIN_04315.eml.txt  TRAIN_04315.eml.txt   \n",
       "3  ./data/email/TRAIN_02983.eml.txt  TRAIN_02983.eml.txt   \n",
       "4  ./data/email/TRAIN_03445.eml.txt  TRAIN_03445.eml.txt   \n",
       "\n",
       "                                               email  \n",
       "0  [SPAM]  Dear hibody@csmining.org 79% 0FF on Pf...  \n",
       "1  Re: Why are there no latest books written for ...  \n",
       "2  We Dare You to Find a Better AnnuityFrom nobod...  \n",
       "3  Re: FromFrom nobody Sun Sep 18 20:45:31 2016\\n...  \n",
       "4  [zzzzteana] Re: Archer-UK TV Alert> US listers...  "
      ]
     },
     "execution_count": 127,
     "metadata": {},
     "output_type": "execute_result"
    }
   ],
   "source": [
    "df_email = pd.DataFrame(file_list_txt, columns=['file_path'])\n",
    "df_email['file_name'] = df_email['file_path'].map(lambda path : get_filename(path))\n",
    "df_email['email'] = emails\n",
    "df_email.shape\n",
    "df_email.head()"
   ]
  },
  {
   "cell_type": "markdown",
   "metadata": {},
   "source": [
    "**라벨 읽어오기**"
   ]
  },
  {
   "cell_type": "code",
   "execution_count": 128,
   "metadata": {},
   "outputs": [
    {
     "name": "stdout",
     "output_type": "stream",
     "text": [
      "(4327, 2)\n"
     ]
    },
    {
     "data": {
      "text/html": [
       "<div>\n",
       "<style scoped>\n",
       "    .dataframe tbody tr th:only-of-type {\n",
       "        vertical-align: middle;\n",
       "    }\n",
       "\n",
       "    .dataframe tbody tr th {\n",
       "        vertical-align: top;\n",
       "    }\n",
       "\n",
       "    .dataframe thead th {\n",
       "        text-align: right;\n",
       "    }\n",
       "</style>\n",
       "<table border=\"1\" class=\"dataframe\">\n",
       "  <thead>\n",
       "    <tr style=\"text-align: right;\">\n",
       "      <th></th>\n",
       "      <th>spam/ham</th>\n",
       "      <th>file_name</th>\n",
       "    </tr>\n",
       "  </thead>\n",
       "  <tbody>\n",
       "    <tr>\n",
       "      <th>0</th>\n",
       "      <td>0</td>\n",
       "      <td>TRAIN_00000.eml.txt</td>\n",
       "    </tr>\n",
       "    <tr>\n",
       "      <th>1</th>\n",
       "      <td>0</td>\n",
       "      <td>TRAIN_00001.eml.txt</td>\n",
       "    </tr>\n",
       "    <tr>\n",
       "      <th>2</th>\n",
       "      <td>1</td>\n",
       "      <td>TRAIN_00002.eml.txt</td>\n",
       "    </tr>\n",
       "    <tr>\n",
       "      <th>3</th>\n",
       "      <td>0</td>\n",
       "      <td>TRAIN_00003.eml.txt</td>\n",
       "    </tr>\n",
       "    <tr>\n",
       "      <th>4</th>\n",
       "      <td>0</td>\n",
       "      <td>TRAIN_00004.eml.txt</td>\n",
       "    </tr>\n",
       "  </tbody>\n",
       "</table>\n",
       "</div>"
      ],
      "text/plain": [
       "   spam/ham            file_name\n",
       "0         0  TRAIN_00000.eml.txt\n",
       "1         0  TRAIN_00001.eml.txt\n",
       "2         1  TRAIN_00002.eml.txt\n",
       "3         0  TRAIN_00003.eml.txt\n",
       "4         0  TRAIN_00004.eml.txt"
      ]
     },
     "execution_count": 128,
     "metadata": {},
     "output_type": "execute_result"
    }
   ],
   "source": [
    "df_label = pd.read_csv('./data/email/labels', sep=' ', header=None, names=['spam/ham', 'file_name'])\n",
    "print(df_label.shape)\n",
    "df_label.head()"
   ]
  },
  {
   "cell_type": "markdown",
   "metadata": {},
   "source": [
    "**데이터 합치기**"
   ]
  },
  {
   "cell_type": "code",
   "execution_count": 129,
   "metadata": {},
   "outputs": [
    {
     "name": "stdout",
     "output_type": "stream",
     "text": [
      "(4327, 4)\n"
     ]
    },
    {
     "data": {
      "text/html": [
       "<div>\n",
       "<style scoped>\n",
       "    .dataframe tbody tr th:only-of-type {\n",
       "        vertical-align: middle;\n",
       "    }\n",
       "\n",
       "    .dataframe tbody tr th {\n",
       "        vertical-align: top;\n",
       "    }\n",
       "\n",
       "    .dataframe thead th {\n",
       "        text-align: right;\n",
       "    }\n",
       "</style>\n",
       "<table border=\"1\" class=\"dataframe\">\n",
       "  <thead>\n",
       "    <tr style=\"text-align: right;\">\n",
       "      <th></th>\n",
       "      <th>file_path</th>\n",
       "      <th>file_name</th>\n",
       "      <th>email</th>\n",
       "      <th>spam/ham</th>\n",
       "    </tr>\n",
       "  </thead>\n",
       "  <tbody>\n",
       "    <tr>\n",
       "      <th>0</th>\n",
       "      <td>./data/email/TRAIN_02429.eml.txt</td>\n",
       "      <td>TRAIN_02429.eml.txt</td>\n",
       "      <td>[SPAM]  Dear hibody@csmining.org 79% 0FF on Pf...</td>\n",
       "      <td>0</td>\n",
       "    </tr>\n",
       "    <tr>\n",
       "      <th>1</th>\n",
       "      <td>./data/email/TRAIN_00509.eml.txt</td>\n",
       "      <td>TRAIN_00509.eml.txt</td>\n",
       "      <td>Re: Why are there no latest books written for ...</td>\n",
       "      <td>1</td>\n",
       "    </tr>\n",
       "    <tr>\n",
       "      <th>2</th>\n",
       "      <td>./data/email/TRAIN_04315.eml.txt</td>\n",
       "      <td>TRAIN_04315.eml.txt</td>\n",
       "      <td>We Dare You to Find a Better AnnuityFrom nobod...</td>\n",
       "      <td>0</td>\n",
       "    </tr>\n",
       "    <tr>\n",
       "      <th>3</th>\n",
       "      <td>./data/email/TRAIN_02983.eml.txt</td>\n",
       "      <td>TRAIN_02983.eml.txt</td>\n",
       "      <td>Re: FromFrom nobody Sun Sep 18 20:45:31 2016\\n...</td>\n",
       "      <td>1</td>\n",
       "    </tr>\n",
       "    <tr>\n",
       "      <th>4</th>\n",
       "      <td>./data/email/TRAIN_03445.eml.txt</td>\n",
       "      <td>TRAIN_03445.eml.txt</td>\n",
       "      <td>[zzzzteana] Re: Archer-UK TV Alert&gt; US listers...</td>\n",
       "      <td>1</td>\n",
       "    </tr>\n",
       "    <tr>\n",
       "      <th>5</th>\n",
       "      <td>./data/email/TRAIN_02071.eml.txt</td>\n",
       "      <td>TRAIN_02071.eml.txt</td>\n",
       "      <td>Police pay damages to journalistURL: http://ww...</td>\n",
       "      <td>1</td>\n",
       "    </tr>\n",
       "    <tr>\n",
       "      <th>6</th>\n",
       "      <td>./data/email/TRAIN_00331.eml.txt</td>\n",
       "      <td>TRAIN_00331.eml.txt</td>\n",
       "      <td>Re: Increasing number of conflictsFrom nobody ...</td>\n",
       "      <td>1</td>\n",
       "    </tr>\n",
       "    <tr>\n",
       "      <th>7</th>\n",
       "      <td>./data/email/TRAIN_00191.eml.txt</td>\n",
       "      <td>TRAIN_00191.eml.txt</td>\n",
       "      <td>Re: [ILUG] removing liloQuoting jac1 (jac1@stu...</td>\n",
       "      <td>1</td>\n",
       "    </tr>\n",
       "    <tr>\n",
       "      <th>8</th>\n",
       "      <td>./data/email/TRAIN_02208.eml.txt</td>\n",
       "      <td>TRAIN_02208.eml.txt</td>\n",
       "      <td>Re: KDE 4.4.3 in unstableFrom nobody Sun Sep 1...</td>\n",
       "      <td>1</td>\n",
       "    </tr>\n",
       "    <tr>\n",
       "      <th>9</th>\n",
       "      <td>./data/email/TRAIN_03709.eml.txt</td>\n",
       "      <td>TRAIN_03709.eml.txt</td>\n",
       "      <td>blogged itemBlogStart: \\n \\n **Dublin**: somet...</td>\n",
       "      <td>1</td>\n",
       "    </tr>\n",
       "  </tbody>\n",
       "</table>\n",
       "</div>"
      ],
      "text/plain": [
       "                          file_path            file_name  \\\n",
       "0  ./data/email/TRAIN_02429.eml.txt  TRAIN_02429.eml.txt   \n",
       "1  ./data/email/TRAIN_00509.eml.txt  TRAIN_00509.eml.txt   \n",
       "2  ./data/email/TRAIN_04315.eml.txt  TRAIN_04315.eml.txt   \n",
       "3  ./data/email/TRAIN_02983.eml.txt  TRAIN_02983.eml.txt   \n",
       "4  ./data/email/TRAIN_03445.eml.txt  TRAIN_03445.eml.txt   \n",
       "5  ./data/email/TRAIN_02071.eml.txt  TRAIN_02071.eml.txt   \n",
       "6  ./data/email/TRAIN_00331.eml.txt  TRAIN_00331.eml.txt   \n",
       "7  ./data/email/TRAIN_00191.eml.txt  TRAIN_00191.eml.txt   \n",
       "8  ./data/email/TRAIN_02208.eml.txt  TRAIN_02208.eml.txt   \n",
       "9  ./data/email/TRAIN_03709.eml.txt  TRAIN_03709.eml.txt   \n",
       "\n",
       "                                               email  spam/ham  \n",
       "0  [SPAM]  Dear hibody@csmining.org 79% 0FF on Pf...         0  \n",
       "1  Re: Why are there no latest books written for ...         1  \n",
       "2  We Dare You to Find a Better AnnuityFrom nobod...         0  \n",
       "3  Re: FromFrom nobody Sun Sep 18 20:45:31 2016\\n...         1  \n",
       "4  [zzzzteana] Re: Archer-UK TV Alert> US listers...         1  \n",
       "5  Police pay damages to journalistURL: http://ww...         1  \n",
       "6  Re: Increasing number of conflictsFrom nobody ...         1  \n",
       "7  Re: [ILUG] removing liloQuoting jac1 (jac1@stu...         1  \n",
       "8  Re: KDE 4.4.3 in unstableFrom nobody Sun Sep 1...         1  \n",
       "9  blogged itemBlogStart: \\n \\n **Dublin**: somet...         1  "
      ]
     },
     "execution_count": 129,
     "metadata": {},
     "output_type": "execute_result"
    }
   ],
   "source": [
    "df_all = pd.merge(df_email, df_label, on='file_name')\n",
    "print(df_all.shape)\n",
    "df_all.head(10)"
   ]
  },
  {
   "cell_type": "code",
   "execution_count": 130,
   "metadata": {},
   "outputs": [
    {
     "data": {
      "text/html": [
       "<div>\n",
       "<style scoped>\n",
       "    .dataframe tbody tr th:only-of-type {\n",
       "        vertical-align: middle;\n",
       "    }\n",
       "\n",
       "    .dataframe tbody tr th {\n",
       "        vertical-align: top;\n",
       "    }\n",
       "\n",
       "    .dataframe thead th {\n",
       "        text-align: right;\n",
       "    }\n",
       "</style>\n",
       "<table border=\"1\" class=\"dataframe\">\n",
       "  <thead>\n",
       "    <tr style=\"text-align: right;\">\n",
       "      <th></th>\n",
       "      <th>email</th>\n",
       "      <th>spam/ham</th>\n",
       "    </tr>\n",
       "  </thead>\n",
       "  <tbody>\n",
       "    <tr>\n",
       "      <th>0</th>\n",
       "      <td>[SPAM]  Dear hibody@csmining.org 79% 0FF on Pf...</td>\n",
       "      <td>0</td>\n",
       "    </tr>\n",
       "    <tr>\n",
       "      <th>1</th>\n",
       "      <td>Re: Why are there no latest books written for ...</td>\n",
       "      <td>1</td>\n",
       "    </tr>\n",
       "    <tr>\n",
       "      <th>2</th>\n",
       "      <td>We Dare You to Find a Better AnnuityFrom nobod...</td>\n",
       "      <td>0</td>\n",
       "    </tr>\n",
       "    <tr>\n",
       "      <th>3</th>\n",
       "      <td>Re: FromFrom nobody Sun Sep 18 20:45:31 2016\\n...</td>\n",
       "      <td>1</td>\n",
       "    </tr>\n",
       "    <tr>\n",
       "      <th>4</th>\n",
       "      <td>[zzzzteana] Re: Archer-UK TV Alert&gt; US listers...</td>\n",
       "      <td>1</td>\n",
       "    </tr>\n",
       "    <tr>\n",
       "      <th>...</th>\n",
       "      <td>...</td>\n",
       "      <td>...</td>\n",
       "    </tr>\n",
       "    <tr>\n",
       "      <th>4322</th>\n",
       "      <td>Your Credit-Scores have been UpdatedFrom nobod...</td>\n",
       "      <td>0</td>\n",
       "    </tr>\n",
       "    <tr>\n",
       "      <th>4323</th>\n",
       "      <td>RE: Re[2]: Goodbye Global Warming&gt; From: bitbi...</td>\n",
       "      <td>1</td>\n",
       "    </tr>\n",
       "    <tr>\n",
       "      <th>4324</th>\n",
       "      <td>An Information\\n \\n \\n \\n \\n An   I n f o r m ...</td>\n",
       "      <td>0</td>\n",
       "    </tr>\n",
       "    <tr>\n",
       "      <th>4325</th>\n",
       "      <td>sharing NFS folder in multiples serversHi agai...</td>\n",
       "      <td>1</td>\n",
       "    </tr>\n",
       "    <tr>\n",
       "      <th>4326</th>\n",
       "      <td>Re: Hi! I'm new here.From nobody Sun Sep 18 20...</td>\n",
       "      <td>1</td>\n",
       "    </tr>\n",
       "  </tbody>\n",
       "</table>\n",
       "<p>4327 rows × 2 columns</p>\n",
       "</div>"
      ],
      "text/plain": [
       "                                                  email  spam/ham\n",
       "0     [SPAM]  Dear hibody@csmining.org 79% 0FF on Pf...         0\n",
       "1     Re: Why are there no latest books written for ...         1\n",
       "2     We Dare You to Find a Better AnnuityFrom nobod...         0\n",
       "3     Re: FromFrom nobody Sun Sep 18 20:45:31 2016\\n...         1\n",
       "4     [zzzzteana] Re: Archer-UK TV Alert> US listers...         1\n",
       "...                                                 ...       ...\n",
       "4322  Your Credit-Scores have been UpdatedFrom nobod...         0\n",
       "4323  RE: Re[2]: Goodbye Global Warming> From: bitbi...         1\n",
       "4324  An Information\\n \\n \\n \\n \\n An   I n f o r m ...         0\n",
       "4325  sharing NFS folder in multiples serversHi agai...         1\n",
       "4326  Re: Hi! I'm new here.From nobody Sun Sep 18 20...         1\n",
       "\n",
       "[4327 rows x 2 columns]"
      ]
     },
     "execution_count": 130,
     "metadata": {},
     "output_type": "execute_result"
    }
   ],
   "source": [
    "df = df_all[['email', 'spam/ham']]\n",
    "df"
   ]
  },
  {
   "cell_type": "code",
   "execution_count": 131,
   "metadata": {},
   "outputs": [
    {
     "name": "stdout",
     "output_type": "stream",
     "text": [
      "<class 'pandas.core.frame.DataFrame'>\n",
      "Int64Index: 4327 entries, 0 to 4326\n",
      "Data columns (total 2 columns):\n",
      " #   Column    Non-Null Count  Dtype \n",
      "---  ------    --------------  ----- \n",
      " 0   email     4327 non-null   object\n",
      " 1   spam/ham  4327 non-null   int64 \n",
      "dtypes: int64(1), object(1)\n",
      "memory usage: 101.4+ KB\n"
     ]
    }
   ],
   "source": [
    "df.info()"
   ]
  },
  {
   "cell_type": "markdown",
   "metadata": {},
   "source": [
    "**결측치, 중복값제거**"
   ]
  },
  {
   "cell_type": "code",
   "execution_count": 132,
   "metadata": {},
   "outputs": [
    {
     "data": {
      "text/plain": [
       "False"
      ]
     },
     "execution_count": 132,
     "metadata": {},
     "output_type": "execute_result"
    }
   ],
   "source": [
    "df.isnull().values.any()"
   ]
  },
  {
   "cell_type": "code",
   "execution_count": 133,
   "metadata": {},
   "outputs": [
    {
     "data": {
      "text/plain": [
       "False    4110\n",
       "True      217\n",
       "Name: email, dtype: int64"
      ]
     },
     "execution_count": 133,
     "metadata": {},
     "output_type": "execute_result"
    }
   ],
   "source": [
    "df['email'].duplicated().value_counts()"
   ]
  },
  {
   "cell_type": "code",
   "execution_count": 134,
   "metadata": {},
   "outputs": [
    {
     "name": "stdout",
     "output_type": "stream",
     "text": [
      "중복제거 후 이메일 수:  4110\n"
     ]
    }
   ],
   "source": [
    "df.drop_duplicates(subset=['email'], inplace=True)\n",
    "print('중복제거 후 이메일 수: ', len(df))"
   ]
  },
  {
   "cell_type": "code",
   "execution_count": 135,
   "metadata": {},
   "outputs": [
    {
     "data": {
      "text/plain": [
       "1    2770\n",
       "0    1340\n",
       "Name: spam/ham, dtype: int64"
      ]
     },
     "execution_count": 135,
     "metadata": {},
     "output_type": "execute_result"
    }
   ],
   "source": [
    "df['spam/ham'].value_counts()\n"
   ]
  },
  {
   "cell_type": "code",
   "execution_count": 136,
   "metadata": {},
   "outputs": [
    {
     "data": {
      "text/plain": [
       "<AxesSubplot:xlabel='spam/ham', ylabel='count'>"
      ]
     },
     "execution_count": 136,
     "metadata": {},
     "output_type": "execute_result"
    },
    {
     "data": {
      "image/png": "[encoded data removed]",
      "text/plain": [
       "<Figure size 432x288 with 1 Axes>"
      ]
     },
     "metadata": {},
     "output_type": "display_data"
    }
   ],
   "source": [
    "sns.countplot(x='spam/ham', data=df)"
   ]
  },
  {
   "cell_type": "markdown",
   "metadata": {},
   "source": [
    "#### 데이터 전처리 "
   ]
  },
  {
   "cell_type": "code",
   "execution_count": 137,
   "metadata": {},
   "outputs": [],
   "source": [
    "X_data = df['email']\n",
    "y_data = df['spam/ham']"
   ]
  },
  {
   "cell_type": "markdown",
   "metadata": {},
   "source": [
    "**토큰화, 인코딩**"
   ]
  },
  {
   "cell_type": "code",
   "execution_count": 138,
   "metadata": {},
   "outputs": [],
   "source": [
    "tokenizer = Tokenizer()\n",
    "tokenizer.fit_on_texts(X_data)\n",
    "sequences = tokenizer.texts_to_sequences(X_data)"
   ]
  },
  {
   "cell_type": "code",
   "execution_count": null,
   "metadata": {
    "scrolled": true
   },
   "outputs": [],
   "source": [
    "# print(sequences[:10])"
   ]
  },
  {
   "cell_type": "code",
   "execution_count": 140,
   "metadata": {},
   "outputs": [
    {
     "name": "stdout",
     "output_type": "stream",
     "text": [
      "단어 집합의 크기:  82846\n"
     ]
    }
   ],
   "source": [
    "word_to_index = tokenizer.word_index\n",
    "vocab_size = len(word_to_index) + 1\n",
    "print('단어 집합의 크기: ', vocab_size)"
   ]
  },
  {
   "cell_type": "code",
   "execution_count": null,
   "metadata": {
    "scrolled": true
   },
   "outputs": [],
   "source": [
    "# print(word_to_index)"
   ]
  },
  {
   "cell_type": "code",
   "execution_count": 142,
   "metadata": {},
   "outputs": [
    {
     "name": "stdout",
     "output_type": "stream",
     "text": [
      "최빈 단어:  the\n"
     ]
    }
   ],
   "source": [
    "index_to_word = {}\n",
    "for key, value in word_to_index.items():\n",
    "    index_to_word[value] = key\n",
    "print('최빈 단어: ', index_to_word[1])"
   ]
  },
  {
   "cell_type": "code",
   "execution_count": 143,
   "metadata": {},
   "outputs": [
    {
     "name": "stdout",
     "output_type": "stream",
     "text": [
      "등장 빈도가 1번 이하인 희귀 단어의 수: 48195\n",
      "단어 집합(vocabulary)에서 희귀 단어의 비율: 58.174904942965775\n",
      "전체 등장 빈도에서 희귀 단어 등장 빈도 비율: 3.7088911035095755\n"
     ]
    }
   ],
   "source": [
    "threshold = 2\n",
    "total_cnt = len(word_to_index) # 단어의 수\n",
    "rare_cnt = 0 # 등장 빈도수가 threshold보다 작은 단어의 개수를 카운트\n",
    "total_freq = 0 # 훈련 데이터의 전체 단어 빈도수 총 합\n",
    "rare_freq = 0 # 등장 빈도수가 threshold보다 작은 단어의 등장 빈도수의 총 합\n",
    "\n",
    "# 단어와 빈도수의 쌍(pair)을 key와 value로 받는다.\n",
    "for key, value in tokenizer.word_counts.items():\n",
    "    total_freq = total_freq + value\n",
    "\n",
    "    # 단어의 등장 빈도수가 threshold보다 작으면\n",
    "    if(value < threshold):\n",
    "        rare_cnt = rare_cnt + 1\n",
    "        rare_freq = rare_freq + value\n",
    "\n",
    "print('등장 빈도가 {}번 이하인 희귀 단어의 수: {}'.format(threshold - 1, rare_cnt))\n",
    "print('단어 집합(vocabulary)에서 희귀 단어의 비율: {}'.format((rare_cnt / total_cnt)*100))\n",
    "print('전체 등장 빈도에서 희귀 단어 등장 빈도 비율:', (rare_freq / total_freq)*100)"
   ]
  },
  {
   "cell_type": "code",
   "execution_count": 144,
   "metadata": {},
   "outputs": [
    {
     "name": "stdout",
     "output_type": "stream",
     "text": [
      "email 최대 길이:  24342\n",
      "email 최대 길이:  316.1666666666667\n"
     ]
    },
    {
     "data": {
      "text/plain": [
       "<AxesSubplot:>"
      ]
     },
     "execution_count": 144,
     "metadata": {},
     "output_type": "execute_result"
    },
    {
     "data": {
      "image/png": "[encoded data removed]",
      "text/plain": [
       "<Figure size 936x360 with 2 Axes>"
      ]
     },
     "metadata": {},
     "output_type": "display_data"
    }
   ],
   "source": [
    "X_data = sequences\n",
    "len_contents = [len(s) for s in X_data]\n",
    "\n",
    "max_len = np.max(len_contents)\n",
    "mean_len = np.mean(len_contents)\n",
    "\n",
    "print('email 최대 길이: ', max_len)\n",
    "print('email 최대 길이: ', mean_len)\n",
    "\n",
    "plt.figure(figsize=(13,5))\n",
    "plt.subplot(1,2,1)\n",
    "sns.boxplot(y=len_contents, data=df['email'])\n",
    "plt.subplot(1,2,2)\n",
    "sns.distplot(len_contents, kde=False, rug=True)"
   ]
  },
  {
   "cell_type": "markdown",
   "metadata": {},
   "source": [
    "#### 이메일 분류하기"
   ]
  },
  {
   "cell_type": "markdown",
   "metadata": {},
   "source": [
    "**학습,테스트데이터 분류**"
   ]
  },
  {
   "cell_type": "code",
   "execution_count": 145,
   "metadata": {},
   "outputs": [],
   "source": [
    "X_train, X_test, y_train, y_test = train_test_split(X_data, y_data, \n",
    "                                                    test_size=0.2, stratify=y_data,\n",
    "                                                    shuffle=True, random_state=39)\n"
   ]
  },
  {
   "cell_type": "code",
   "execution_count": 146,
   "metadata": {},
   "outputs": [
    {
     "name": "stdout",
     "output_type": "stream",
     "text": [
      "Train Dataset:  3288\n",
      "Test Dataset:  822\n",
      "Category:  2\n"
     ]
    }
   ],
   "source": [
    "print('Train Dataset: ', len(X_train))\n",
    "print('Test Dataset: ', len(X_test))\n",
    "print('Category: ', max(y_train)+1)"
   ]
  },
  {
   "cell_type": "markdown",
   "metadata": {},
   "source": [
    "**가장 긴 메일 길이로 패딩**"
   ]
  },
  {
   "cell_type": "code",
   "execution_count": 147,
   "metadata": {},
   "outputs": [
    {
     "name": "stdout",
     "output_type": "stream",
     "text": [
      "이메일 길이 변환: (3288, 24342) (822, 24342)\n"
     ]
    }
   ],
   "source": [
    "X_train = pad_sequences(X_train, maxlen=max_len, dtype='int32', \n",
    "                        padding='pre', truncating='pre', value=0.)\n",
    "X_test = pad_sequences(X_test, maxlen=max_len, dtype='int32', \n",
    "                        padding='pre', truncating='pre', value=0.)\n",
    "print('이메일 길이 변환: {} {}'.format(X_train.shape, X_test.shape))"
   ]
  },
  {
   "cell_type": "markdown",
   "metadata": {},
   "source": [
    "**모델만들기**"
   ]
  },
  {
   "cell_type": "code",
   "execution_count": 148,
   "metadata": {},
   "outputs": [],
   "source": [
    "model = keras.Sequential([\n",
    "    keras.layers.Embedding(vocab_size, 64),\n",
    "    keras.layers.Bidirectional(tf.keras.layers.LSTM(64)),\n",
    "    keras.layers.Dense(64, activation='relu'),\n",
    "    keras.layers.Dense(1)\n",
    "])"
   ]
  },
  {
   "cell_type": "code",
   "execution_count": 149,
   "metadata": {},
   "outputs": [],
   "source": [
    "model.compile(loss = keras.losses.BinaryCrossentropy(from_logits=True), \n",
    "              optimizer = keras.optimizers.Adam(1e-4),\n",
    "              metrics = ['accuracy'])\n",
    " "
   ]
  },
  {
   "cell_type": "code",
   "execution_count": 150,
   "metadata": {},
   "outputs": [
    {
     "name": "stdout",
     "output_type": "stream",
     "text": [
      "Model: \"sequential_2\"\n",
      "_________________________________________________________________\n",
      "Layer (type)                 Output Shape              Param #   \n",
      "=================================================================\n",
      "embedding_2 (Embedding)      (None, None, 64)          5302144   \n",
      "_________________________________________________________________\n",
      "bidirectional_2 (Bidirection (None, 128)               66048     \n",
      "_________________________________________________________________\n",
      "dense_4 (Dense)              (None, 64)                8256      \n",
      "_________________________________________________________________\n",
      "dense_5 (Dense)              (None, 1)                 65        \n",
      "=================================================================\n",
      "Total params: 5,376,513\n",
      "Trainable params: 5,376,513\n",
      "Non-trainable params: 0\n",
      "_________________________________________________________________\n"
     ]
    }
   ],
   "source": [
    "model.summary()"
   ]
  },
  {
   "cell_type": "code",
   "execution_count": 156,
   "metadata": {},
   "outputs": [],
   "source": [
    "early_stopping = keras.callbacks.EarlyStopping(patience=3)"
   ]
  },
  {
   "cell_type": "code",
   "execution_count": 157,
   "metadata": {},
   "outputs": [
    {
     "name": "stdout",
     "output_type": "stream",
     "text": [
      "Epoch 1/10\n",
      "83/83 [==============================] - 134s 2s/step - loss: 0.3967 - accuracy: 0.8886 - val_loss: 0.2569 - val_accuracy: 0.8936\n",
      "Epoch 2/10\n",
      "83/83 [==============================] - 136s 2s/step - loss: 0.1671 - accuracy: 0.9510 - val_loss: 0.1425 - val_accuracy: 0.9574\n",
      "Epoch 3/10\n",
      "83/83 [==============================] - 135s 2s/step - loss: 0.0794 - accuracy: 0.9825 - val_loss: 0.1530 - val_accuracy: 0.9331\n",
      "Epoch 4/10\n",
      "83/83 [==============================] - 134s 2s/step - loss: 0.0597 - accuracy: 0.9837 - val_loss: 0.0996 - val_accuracy: 0.9681\n",
      "Epoch 5/10\n",
      "83/83 [==============================] - 135s 2s/step - loss: 0.0301 - accuracy: 0.9943 - val_loss: 0.1011 - val_accuracy: 0.9711\n",
      "Epoch 6/10\n",
      "83/83 [==============================] - 137s 2s/step - loss: 0.0195 - accuracy: 0.9954 - val_loss: 0.0683 - val_accuracy: 0.9787\n",
      "Epoch 7/10\n",
      "83/83 [==============================] - 136s 2s/step - loss: 0.0159 - accuracy: 0.9958 - val_loss: 0.0852 - val_accuracy: 0.9666\n",
      "Epoch 8/10\n",
      "83/83 [==============================] - 135s 2s/step - loss: 0.0120 - accuracy: 0.9981 - val_loss: 0.0714 - val_accuracy: 0.9772\n",
      "Epoch 9/10\n",
      "83/83 [==============================] - 135s 2s/step - loss: 0.0091 - accuracy: 0.9977 - val_loss: 0.1269 - val_accuracy: 0.9529\n"
     ]
    }
   ],
   "source": [
    "history = model.fit(X_train, y_train, \n",
    "                    epochs=10, validation_split=0.2, \n",
    "                    callbacks=[early_stopping])"
   ]
  },
  {
   "cell_type": "markdown",
   "metadata": {},
   "source": [
    "**모델평가**"
   ]
  },
  {
   "cell_type": "code",
   "execution_count": 159,
   "metadata": {},
   "outputs": [
    {
     "name": "stdout",
     "output_type": "stream",
     "text": [
      "26/26 [==============================] - 15s 563ms/step - loss: 0.0666 - accuracy: 0.9696\n",
      "Test Loss: 0.06656783074140549\n",
      "Test Accuracy: 0.9695863723754883\n"
     ]
    }
   ],
   "source": [
    "test_loss, test_acc = model.evaluate(X_test, y_test)\n",
    "\n",
    "print('Test Loss: {}'.format(test_loss))\n",
    "print('Test Accuracy: {}'.format(test_acc))"
   ]
  },
  {
   "cell_type": "code",
   "execution_count": 162,
   "metadata": {},
   "outputs": [],
   "source": [
    "def plot_graphs(history, metric):\n",
    "  plt.plot(history.history[metric])\n",
    "  plt.plot(history.history['val_'+metric], '')\n",
    "  plt.xlabel(\"Epochs\")\n",
    "  plt.ylabel(metric)\n",
    "  plt.legend([metric, 'val_'+metric])\n",
    "  plt.show()"
   ]
  },
  {
   "cell_type": "code",
   "execution_count": 163,
   "metadata": {},
   "outputs": [
    {
     "data": {
      "image/png": "[encoded data removed]",
      "text/plain": [
       "<Figure size 432x288 with 1 Axes>"
      ]
     },
     "metadata": {},
     "output_type": "display_data"
    }
   ],
   "source": [
    "plot_graphs(history, 'accuracy')"
   ]
  },
  {
   "cell_type": "code",
   "execution_count": 164,
   "metadata": {},
   "outputs": [
    {
     "data": {
      "image/png": "[encoded data removed]",
      "text/plain": [
       "<Figure size 432x288 with 1 Axes>"
      ]
     },
     "metadata": {},
     "output_type": "display_data"
    }
   ],
   "source": [
    "plot_graphs(history, 'loss')"
   ]
  },
  {
   "cell_type": "code",
   "execution_count": null,
   "metadata": {},
   "outputs": [],
   "source": []
  }
 ],
 "metadata": {
  "kernelspec": {
   "display_name": "Python 3",
   "language": "python",
   "name": "python3"
  },
  "language_info": {
   "codemirror_mode": {
    "name": "ipython",
    "version": 3
   },
   "file_extension": ".py",
   "mimetype": "text/x-python",
   "name": "python",
   "nbconvert_exporter": "python",
   "pygments_lexer": "ipython3",
   "version": "3.6.9"
  }
 },
 "nbformat": 4,
 "nbformat_minor": 4
}
